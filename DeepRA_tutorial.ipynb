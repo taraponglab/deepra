{
  "nbformat": 4,
  "nbformat_minor": 0,
  "metadata": {
    "colab": {
      "provenance": [],
      "authorship_tag": "ABX9TyOApIBY8d6UGO89zTgsc69l",
      "include_colab_link": true
    },
    "kernelspec": {
      "name": "python3",
      "display_name": "Python 3"
    },
    "language_info": {
      "name": "python"
    }
  },
  "cells": [
    {
      "cell_type": "markdown",
      "metadata": {
        "id": "view-in-github",
        "colab_type": "text"
      },
      "source": [
        "<a href=\"https://colab.research.google.com/github/taraponglab/deepra/blob/main/DeepRA_tutorial.ipynb\" target=\"_parent\"><img src=\"https://colab.research.google.com/assets/colab-badge.svg\" alt=\"Open In Colab\"/></a>"
      ]
    },
    {
      "cell_type": "markdown",
      "source": [
        "# **Tutorial for using DeepRA framework in mutagenicity prediction**\n",
        "## DeepRA: A Novel Deep Learning-Read-Across Framework and Its Application in Non-Sugar Sweeteners Mutagenicity Prediction\n",
        "Tarapong Srisongkram\n",
        "* Division of Pharmaceutical Chemistry, Faculty of Pharmaceutical Sciences, Khon Kaen University, 40002 (tarasri@kku.ac.th)"
      ],
      "metadata": {
        "id": "eoLoUZ-LjUsK"
      }
    },
    {
      "cell_type": "markdown",
      "source": [
        "To use this model, please use our sweeteners csv template and change our data to your data, **without changing the column names.**\n",
        "* **This software requires only chemical name and canonical SMILES**.\n"
      ],
      "metadata": {
        "id": "uG3FBqwQj-ue"
      }
    },
    {
      "cell_type": "code",
      "execution_count": 1,
      "metadata": {
        "colab": {
          "base_uri": "https://localhost:8080/"
        },
        "id": "oNcO1_iXjNfj",
        "outputId": "c1ae5e51-98fd-4fa9-83a4-e5ebe28be168"
      },
      "outputs": [
        {
          "output_type": "stream",
          "name": "stdout",
          "text": [
            "Requirement already satisfied: rdkit in /usr/local/lib/python3.10/dist-packages (2023.9.5)\n",
            "Requirement already satisfied: numpy in /usr/local/lib/python3.10/dist-packages (from rdkit) (1.25.2)\n",
            "Requirement already satisfied: Pillow in /usr/local/lib/python3.10/dist-packages (from rdkit) (9.4.0)\n",
            "\u001b[33mWARNING: Running pip as the 'root' user can result in broken permissions and conflicting behaviour with the system package manager. It is recommended to use a virtual environment instead: https://pip.pypa.io/warnings/venv\u001b[0m\u001b[33m\n",
            "\u001b[0mRequirement already satisfied: mordred in /usr/local/lib/python3.10/dist-packages (1.2.0)\n",
            "Requirement already satisfied: six==1.* in /usr/local/lib/python3.10/dist-packages (from mordred) (1.16.0)\n",
            "Requirement already satisfied: numpy==1.* in /usr/local/lib/python3.10/dist-packages (from mordred) (1.25.2)\n",
            "Requirement already satisfied: networkx==2.* in /usr/local/lib/python3.10/dist-packages (from mordred) (2.8.8)\n",
            "\u001b[33mWARNING: Running pip as the 'root' user can result in broken permissions and conflicting behaviour with the system package manager. It is recommended to use a virtual environment instead: https://pip.pypa.io/warnings/venv\u001b[0m\u001b[33m\n",
            "\u001b[0m"
          ]
        }
      ],
      "source": [
        "1#Download necessary packages\n",
        "!pip install rdkit\n",
        "!pip install mordred"
      ]
    },
    {
      "cell_type": "code",
      "source": [
        "!git clone https://github.com/taraponglab/deepra.git"
      ],
      "metadata": {
        "colab": {
          "base_uri": "https://localhost:8080/"
        },
        "id": "h0ASnIrjoMLp",
        "outputId": "d8aa9571-5c02-4527-c8c3-d58cd2601168"
      },
      "execution_count": null,
      "outputs": [
        {
          "output_type": "stream",
          "name": "stdout",
          "text": [
            "Cloning into 'deepra'...\n",
            "remote: Enumerating objects: 21, done.\u001b[K\n",
            "remote: Counting objects: 100% (12/12), done.\u001b[K\n",
            "remote: Compressing objects: 100% (10/10), done.\u001b[K\n",
            "remote: Total 21 (delta 3), reused 11 (delta 2), pack-reused 9\u001b[K\n",
            "Receiving objects: 100% (21/21), 102.04 MiB | 19.05 MiB/s, done.\n",
            "Resolving deltas: 100% (4/4), done.\n"
          ]
        }
      ]
    },
    {
      "cell_type": "code",
      "source": [
        "#%cd deepra\n",
        "!git fetch\n",
        "!git pull"
      ],
      "metadata": {
        "colab": {
          "base_uri": "https://localhost:8080/"
        },
        "id": "XCICJE_p4NVC",
        "outputId": "28f2009e-c744-4b47-df50-7ef0c61f4d96"
      },
      "execution_count": 12,
      "outputs": [
        {
          "output_type": "stream",
          "name": "stdout",
          "text": [
            "remote: Enumerating objects: 3, done.\u001b[K\n",
            "remote: Counting objects:  33% (1/3)\u001b[K\rremote: Counting objects:  66% (2/3)\u001b[K\rremote: Counting objects: 100% (3/3)\u001b[K\rremote: Counting objects: 100% (3/3), done.\u001b[K\n",
            "remote: Total 3 (delta 2), reused 3 (delta 2), pack-reused 0\u001b[K\n",
            "Unpacking objects:  33% (1/3)\rUnpacking objects:  66% (2/3)\rUnpacking objects: 100% (3/3)\rUnpacking objects: 100% (3/3), 269 bytes | 33.00 KiB/s, done.\n",
            "From https://github.com/taraponglab/deepra\n",
            "   303e2c4..bd4a5a2  main       -> origin/main\n",
            "Updating 303e2c4..bd4a5a2\n",
            "Fast-forward\n",
            " mordreds.txt | 2 \u001b[31m--\u001b[m\n",
            " 1 file changed, 2 deletions(-)\n"
          ]
        }
      ]
    },
    {
      "cell_type": "code",
      "source": [
        "%ls"
      ],
      "metadata": {
        "colab": {
          "base_uri": "https://localhost:8080/"
        },
        "id": "RaygFNtpoRf4",
        "outputId": "0c8d8ee7-9cb2-4ece-a060-d4061273701e"
      },
      "execution_count": 13,
      "outputs": [
        {
          "output_type": "stream",
          "name": "stdout",
          "text": [
            "AD_nn.joblib        DeepRA-ECFP.joblib            DeepRA_tutorial.ipynb  train.csv\n",
            "CNN-ECFP.joblib     DeepRA-Mordred.joblib         dulcin.csv\n",
            "CNN-Mordred.joblib  DeepRA-Mordred-scaler.joblib  mordred_scaler.joblib\n",
            "CNN-RDKIT.joblib    DeepRA-RDKIT.joblib           mordreds.txt\n"
          ]
        }
      ]
    },
    {
      "cell_type": "code",
      "source": [
        "#Download models\n",
        "from joblib import load\n",
        "scaler_mord = load('mordred_scaler.joblib')\n",
        "model_mord  = load('CNN-Mordred.joblib')\n",
        "model_rdkit = load('CNN-RDKIT.joblib')\n",
        "model_ecfp  = load('CNN-ECFP.joblib')\n",
        "model_ad    = load('AD_nn.joblib')\n",
        "deepra      = load('DeepRA-Mordred.joblib')"
      ],
      "metadata": {
        "id": "s783u5l_l3f7"
      },
      "execution_count": 14,
      "outputs": []
    },
    {
      "cell_type": "code",
      "source": [
        "#Load test data\n",
        "import pandas as pd\n",
        "df = pd.read_csv('dulcin.csv', index_col = 'Name')\n",
        "df"
      ],
      "metadata": {
        "colab": {
          "base_uri": "https://localhost:8080/",
          "height": 112
        },
        "id": "ttwr6q6kogC9",
        "outputId": "7cc5eadb-1cbc-415c-e778-9baa39dab970"
      },
      "execution_count": 15,
      "outputs": [
        {
          "output_type": "execute_result",
          "data": {
            "text/plain": [
              "            canonical_smiles\n",
              "Name                        \n",
              "dulcin  CCOc1ccc(NC(N)=O)cc1"
            ],
            "text/html": [
              "\n",
              "  <div id=\"df-cf6667e1-2fbd-4744-ab66-052c4967ca7b\" class=\"colab-df-container\">\n",
              "    <div>\n",
              "<style scoped>\n",
              "    .dataframe tbody tr th:only-of-type {\n",
              "        vertical-align: middle;\n",
              "    }\n",
              "\n",
              "    .dataframe tbody tr th {\n",
              "        vertical-align: top;\n",
              "    }\n",
              "\n",
              "    .dataframe thead th {\n",
              "        text-align: right;\n",
              "    }\n",
              "</style>\n",
              "<table border=\"1\" class=\"dataframe\">\n",
              "  <thead>\n",
              "    <tr style=\"text-align: right;\">\n",
              "      <th></th>\n",
              "      <th>canonical_smiles</th>\n",
              "    </tr>\n",
              "    <tr>\n",
              "      <th>Name</th>\n",
              "      <th></th>\n",
              "    </tr>\n",
              "  </thead>\n",
              "  <tbody>\n",
              "    <tr>\n",
              "      <th>dulcin</th>\n",
              "      <td>CCOc1ccc(NC(N)=O)cc1</td>\n",
              "    </tr>\n",
              "  </tbody>\n",
              "</table>\n",
              "</div>\n",
              "    <div class=\"colab-df-buttons\">\n",
              "\n",
              "  <div class=\"colab-df-container\">\n",
              "    <button class=\"colab-df-convert\" onclick=\"convertToInteractive('df-cf6667e1-2fbd-4744-ab66-052c4967ca7b')\"\n",
              "            title=\"Convert this dataframe to an interactive table.\"\n",
              "            style=\"display:none;\">\n",
              "\n",
              "  <svg xmlns=\"http://www.w3.org/2000/svg\" height=\"24px\" viewBox=\"0 -960 960 960\">\n",
              "    <path d=\"M120-120v-720h720v720H120Zm60-500h600v-160H180v160Zm220 220h160v-160H400v160Zm0 220h160v-160H400v160ZM180-400h160v-160H180v160Zm440 0h160v-160H620v160ZM180-180h160v-160H180v160Zm440 0h160v-160H620v160Z\"/>\n",
              "  </svg>\n",
              "    </button>\n",
              "\n",
              "  <style>\n",
              "    .colab-df-container {\n",
              "      display:flex;\n",
              "      gap: 12px;\n",
              "    }\n",
              "\n",
              "    .colab-df-convert {\n",
              "      background-color: #E8F0FE;\n",
              "      border: none;\n",
              "      border-radius: 50%;\n",
              "      cursor: pointer;\n",
              "      display: none;\n",
              "      fill: #1967D2;\n",
              "      height: 32px;\n",
              "      padding: 0 0 0 0;\n",
              "      width: 32px;\n",
              "    }\n",
              "\n",
              "    .colab-df-convert:hover {\n",
              "      background-color: #E2EBFA;\n",
              "      box-shadow: 0px 1px 2px rgba(60, 64, 67, 0.3), 0px 1px 3px 1px rgba(60, 64, 67, 0.15);\n",
              "      fill: #174EA6;\n",
              "    }\n",
              "\n",
              "    .colab-df-buttons div {\n",
              "      margin-bottom: 4px;\n",
              "    }\n",
              "\n",
              "    [theme=dark] .colab-df-convert {\n",
              "      background-color: #3B4455;\n",
              "      fill: #D2E3FC;\n",
              "    }\n",
              "\n",
              "    [theme=dark] .colab-df-convert:hover {\n",
              "      background-color: #434B5C;\n",
              "      box-shadow: 0px 1px 3px 1px rgba(0, 0, 0, 0.15);\n",
              "      filter: drop-shadow(0px 1px 2px rgba(0, 0, 0, 0.3));\n",
              "      fill: #FFFFFF;\n",
              "    }\n",
              "  </style>\n",
              "\n",
              "    <script>\n",
              "      const buttonEl =\n",
              "        document.querySelector('#df-cf6667e1-2fbd-4744-ab66-052c4967ca7b button.colab-df-convert');\n",
              "      buttonEl.style.display =\n",
              "        google.colab.kernel.accessAllowed ? 'block' : 'none';\n",
              "\n",
              "      async function convertToInteractive(key) {\n",
              "        const element = document.querySelector('#df-cf6667e1-2fbd-4744-ab66-052c4967ca7b');\n",
              "        const dataTable =\n",
              "          await google.colab.kernel.invokeFunction('convertToInteractive',\n",
              "                                                    [key], {});\n",
              "        if (!dataTable) return;\n",
              "\n",
              "        const docLinkHtml = 'Like what you see? Visit the ' +\n",
              "          '<a target=\"_blank\" href=https://colab.research.google.com/notebooks/data_table.ipynb>data table notebook</a>'\n",
              "          + ' to learn more about interactive tables.';\n",
              "        element.innerHTML = '';\n",
              "        dataTable['output_type'] = 'display_data';\n",
              "        await google.colab.output.renderOutput(dataTable, element);\n",
              "        const docLink = document.createElement('div');\n",
              "        docLink.innerHTML = docLinkHtml;\n",
              "        element.appendChild(docLink);\n",
              "      }\n",
              "    </script>\n",
              "  </div>\n",
              "\n",
              "    </div>\n",
              "  </div>\n"
            ],
            "application/vnd.google.colaboratory.intrinsic+json": {
              "type": "dataframe",
              "variable_name": "df",
              "summary": "{\n  \"name\": \"df\",\n  \"rows\": 1,\n  \"fields\": [\n    {\n      \"column\": \"Name\",\n      \"properties\": {\n        \"dtype\": \"string\",\n        \"num_unique_values\": 1,\n        \"samples\": [\n          \"dulcin\"\n        ],\n        \"semantic_type\": \"\",\n        \"description\": \"\"\n      }\n    },\n    {\n      \"column\": \"canonical_smiles\",\n      \"properties\": {\n        \"dtype\": \"string\",\n        \"num_unique_values\": 1,\n        \"samples\": [\n          \"CCOc1ccc(NC(N)=O)cc1\"\n        ],\n        \"semantic_type\": \"\",\n        \"description\": \"\"\n      }\n    }\n  ]\n}"
            }
          },
          "metadata": {},
          "execution_count": 15
        }
      ]
    },
    {
      "cell_type": "code",
      "source": [
        "#Calculate Mordred, ECFP, RDKIT\n",
        "from mordred import Calculator, descriptors\n",
        "from rdkit import Chem\n",
        "from rdkit.Chem import AllChem as Chem\n",
        "\n",
        "def morded_cal(df, smiles_col):\n",
        "    #calculate descriptors\n",
        "    calc = Calculator(descriptors, ignore_3D=True)\n",
        "    mols = [Chem.MolFromSmiles(smi) for smi in df[smiles_col]]\n",
        "    des = calc.pandas(mols)\n",
        "    des = des.set_index(df.index)\n",
        "    with open('mordreds.txt', 'r') as file:\n",
        "      columns = [line.strip() for line in file]\n",
        "    selected_mord = des[columns]\n",
        "    selected_mord\n",
        "    return selected_mord\n",
        "def calculate_ecfp(df, smiles_col, radius=10, nBits=4096):\n",
        "    def get_ecfp(smiles):\n",
        "        try:\n",
        "            mol = Chem.MolFromSmiles(smiles)\n",
        "            fingerprint = Chem.GetMorganFingerprintAsBitVect(mol, radius, nBits)\n",
        "            return [int(bit) for bit in fingerprint.ToBitString()]\n",
        "        except:\n",
        "            return [None] * nBits  # Return a list of None if an error occurs\n",
        "\n",
        "    ecfp_bits_df = df[smiles_col].apply(get_ecfp).apply(pd.Series)\n",
        "    ecfp_bits_df.columns = [f'ECFP{i}' for i in range(nBits)]\n",
        "    df = pd.concat([df, ecfp_bits_df], axis=1)\n",
        "\n",
        "    return df\n",
        "def calculate_rdkit(df, smiles_col, nBits=2048):\n",
        "    def get_ecfp(smiles):\n",
        "        try:\n",
        "            mol = Chem.MolFromSmiles(smiles)\n",
        "            fingerprint = Chem.RDKFingerprint(mol)\n",
        "            return [int(bit) for bit in fingerprint.ToBitString()]\n",
        "        except:\n",
        "            return [None] * nBits  # Return a list of None if an error occurs\n",
        "\n",
        "    rdkit_bits_df = df[smiles_col].apply(get_ecfp).apply(pd.Series)\n",
        "    rdkit_bits_df.columns = [f'RDKit{i}' for i in range(nBits)]\n",
        "    df = pd.concat([df, rdkit_bits_df], axis=1)\n",
        "\n",
        "    return df\n",
        "\n",
        "df_mord = morded_cal(df, 'canonical_smiles')\n",
        "df_ecfp = calculate_ecfp(df, 'canonical_smiles')\n",
        "df_rdkit= calculate_rdkit(df, 'canonical_smiles')\n",
        "\n",
        "df_ecfp = df_ecfp.drop(['canonical_smiles'],axis=1)\n",
        "df_rdkit = df_rdkit.drop(['canonical_smiles'],axis=1)"
      ],
      "metadata": {
        "colab": {
          "base_uri": "https://localhost:8080/"
        },
        "id": "RGDlX2XjpDa7",
        "outputId": "f3b518ff-8eca-4621-f7f1-609bcc84f5a9"
      },
      "execution_count": 16,
      "outputs": [
        {
          "output_type": "stream",
          "name": "stderr",
          "text": [
            "100%|██████████| 1/1 [00:00<00:00,  6.01it/s]\n"
          ]
        }
      ]
    },
    {
      "cell_type": "code",
      "source": [
        "df_mord.columns[df_mord.isna().any()].tolist()"
      ],
      "metadata": {
        "colab": {
          "base_uri": "https://localhost:8080/"
        },
        "id": "Beb-56Eya_wm",
        "outputId": "83a646ec-c893-4e52-df05-95c9030e83d3"
      },
      "execution_count": 17,
      "outputs": [
        {
          "output_type": "execute_result",
          "data": {
            "text/plain": [
              "[]"
            ]
          },
          "metadata": {},
          "execution_count": 17
        }
      ]
    },
    {
      "cell_type": "code",
      "source": [
        "df_mord.select_dtypes(include=['object']).columns.tolist()"
      ],
      "metadata": {
        "colab": {
          "base_uri": "https://localhost:8080/"
        },
        "id": "DZvbRK9nbZ0k",
        "outputId": "552fa578-de3f-41b9-8e12-d5ad3b6175b5"
      },
      "execution_count": 18,
      "outputs": [
        {
          "output_type": "execute_result",
          "data": {
            "text/plain": [
              "[]"
            ]
          },
          "metadata": {},
          "execution_count": 18
        }
      ]
    },
    {
      "cell_type": "code",
      "source": [
        "#Compute baseline CNN\n",
        "import numpy as np\n",
        "#Mord\n",
        "name = 'CNN-Mordred'\n",
        "scaler_mord = load('mordred_scaler.joblib')\n",
        "x_mord_np = scaler_mord.transform(df_mord)\n",
        "y_predict_cnn_mord = model_mord.predict(x_mord_np)\n",
        "y_predict_cnn_mord = np.where(y_predict_cnn_mord > 0.5 ,1 ,0)\n",
        "y_predict_cnn_mord = pd.DataFrame(y_predict_cnn_mord, columns=[name]).set_index(df_mord.index)\n",
        "print(y_predict_cnn_mord)\n",
        "#ECFP\n",
        "name = 'CNN-ECFP'\n",
        "x_ecfp_np = np.array(df_ecfp)\n",
        "y_predict_cnn_ecfp = model_ecfp.predict(x_ecfp_np)\n",
        "y_predict_cnn_ecfp = np.where(y_predict_cnn_ecfp > 0.5 ,1 ,0)\n",
        "y_predict_cnn_ecfp = pd.DataFrame(y_predict_cnn_ecfp, columns=[name]).set_index(df_ecfp.index)\n",
        "print(y_predict_cnn_ecfp)\n",
        "#RDKIT\n",
        "name = 'CNN-RDKIT'\n",
        "x_rdkit_np  = np.array(df_rdkit)\n",
        "y_predict_cnn_rdkit = model_rdkit.predict(x_rdkit_np)\n",
        "y_predict_cnn_rdkit = np.where(y_predict_cnn_rdkit > 0.5 ,1 ,0)\n",
        "y_predict_cnn_rdkit = pd.DataFrame(y_predict_cnn_rdkit, columns=[name]).set_index(df_rdkit.index)\n",
        "print(y_predict_cnn_rdkit)"
      ],
      "metadata": {
        "colab": {
          "base_uri": "https://localhost:8080/"
        },
        "id": "U4Du1yxOrNWH",
        "outputId": "221da437-255b-4692-f8f0-e1a5bc6b907f"
      },
      "execution_count": 19,
      "outputs": [
        {
          "output_type": "stream",
          "name": "stdout",
          "text": [
            "1/1 [==============================] - 0s 291ms/step\n",
            "        CNN-Mordred\n",
            "Name               \n",
            "dulcin            1\n",
            "1/1 [==============================] - 0s 148ms/step\n",
            "        CNN-ECFP\n",
            "Name            \n",
            "dulcin         1\n",
            "1/1 [==============================] - 0s 140ms/step\n",
            "        CNN-RDKIT\n",
            "Name             \n",
            "dulcin          1\n"
          ]
        }
      ]
    },
    {
      "cell_type": "code",
      "source": [
        "#Compute baseline RA\n",
        "from rdkit import Chem, DataStructs\n",
        "from rdkit.Chem import AllChem\n",
        "train = pd.read_csv('train.csv', index_col='PubChem CID')\n",
        "y_train = train['Toxicity Value']\n",
        "def ra_ecfp(train,test, y_train, n_top, smiles_col,weight_power, nBits=4096):\n",
        "    y_pred = []\n",
        "    #smiles to morgan fingerprint\n",
        "    train_smile= list(train[smiles_col])\n",
        "    test_smile = list(test[smiles_col])\n",
        "    for compound_test in test_smile:\n",
        "        mol1 = Chem.MolFromSmiles(compound_test)\n",
        "        fp1 = AllChem.GetMorganFingerprintAsBitVect(mol1, 8, nBits=4096)\n",
        "        similarity_array = []\n",
        "        for compound_train in train_smile:\n",
        "            mol2 = Chem.MolFromSmiles(compound_train)\n",
        "            fp2 = AllChem.GetMorganFingerprintAsBitVect(mol2, 8, nBits=4096)\n",
        "            similarity = DataStructs.TanimotoSimilarity(fp1, fp2)\n",
        "            similarity_array.append(similarity)\n",
        "        similarity_series = pd.Series(similarity_array, index = train.index)\n",
        "        adjusted_weights = similarity_series ** weight_power\n",
        "        indices = similarity_series.nlargest(n_top).index\n",
        "        y_values = y_train.loc[indices].values.flatten()  # make sure y_values is 1D\n",
        "        print(y_values)\n",
        "        y_pred.append(np.average(y_values, weights=adjusted_weights.loc[indices].values))\n",
        "    y_pred = pd.DataFrame(y_pred, index=test.index, columns=['ra_ecfp'])\n",
        "    #set threshold to 0.5\n",
        "    y_pred['ra_ecfp'] = y_pred['ra_ecfp'].apply(lambda x: 1 if x >= 0.5 else 0)\n",
        "    return y_pred\n",
        "\n",
        "y_predict_ra_ecfp = ra_ecfp(train, df, y_train, 3, 'canonical_smiles', 1, nBits=4098)\n",
        "print(y_predict_ra_ecfp)\n",
        "\n",
        "\n",
        "def ra_rdkit(train,test, y_train, n_top, smiles_col,weight_power):\n",
        "    from rdkit import Chem, DataStructs\n",
        "    from rdkit.Chem import AllChem\n",
        "    import pandas as pd\n",
        "    import numpy as np\n",
        "    y_pred = []\n",
        "    #smiles to morgan fingerprint\n",
        "    train_smile= list(train[smiles_col])\n",
        "    test_smile = list(test[smiles_col])\n",
        "    for compound_test in test_smile:\n",
        "        mol1 = Chem.MolFromSmiles(compound_test)\n",
        "        fp1 = Chem.RDKFingerprint(mol1)\n",
        "        similarity_array = []\n",
        "        for compound_train in train_smile:\n",
        "            mol2 = Chem.MolFromSmiles(compound_train)\n",
        "            fp2 = Chem.RDKFingerprint(mol2)\n",
        "            similarity = DataStructs.TanimotoSimilarity(fp1, fp2)\n",
        "            similarity_array.append(similarity)\n",
        "        similarity_series = pd.Series(similarity_array, index = train.index)\n",
        "        adjusted_weights = similarity_series ** weight_power\n",
        "        indices = similarity_series.nlargest(n_top).index\n",
        "        y_values = y_train.loc[indices].values.flatten()  # make sure y_values is 1D\n",
        "        print(y_values)\n",
        "        y_pred.append(np.average(y_values, weights=adjusted_weights.loc[indices].values))\n",
        "    y_pred = pd.DataFrame(y_pred, index=test.index, columns=['ra_rdkit'])\n",
        "    #set threshold to 0.5\n",
        "    y_pred['ra_rdkit'] = y_pred['ra_rdkit'].apply(lambda x: 1 if x >= 0.5 else 0)\n",
        "    return y_pred\n",
        "y_predict_ra_rdkit = ra_rdkit(train, df, y_train, 3, 'canonical_smiles',1)\n",
        "print(y_predict_ra_rdkit)"
      ],
      "metadata": {
        "colab": {
          "base_uri": "https://localhost:8080/"
        },
        "id": "r8sFdd8GrRA4",
        "outputId": "a498c6b1-533a-4364-f884-0747b315cd72"
      },
      "execution_count": 20,
      "outputs": [
        {
          "output_type": "stream",
          "name": "stdout",
          "text": [
            "[1 1 1]\n",
            "        ra_ecfp\n",
            "Name           \n",
            "dulcin        1\n",
            "[1 1 1]\n",
            "        ra_rdkit\n",
            "Name            \n",
            "dulcin         1\n"
          ]
        }
      ]
    },
    {
      "cell_type": "code",
      "source": [
        "#Compute DeepRA\n",
        "name = 'DeepRA-Mordred'\n",
        "#Mordred + CNN-Mord + CNN-ECFP + CNN-RDKIT + RA-ECFP + RA-RDKIT\n",
        "x_te   = pd.concat([df_mord, y_predict_ra_ecfp, y_predict_ra_rdkit, y_predict_cnn_ecfp, y_predict_cnn_mord, y_predict_cnn_rdkit], axis=1)\n",
        "# Transform the test data using the scaler\n",
        "from sklearn.preprocessing import MinMaxScaler\n",
        "from joblib import load\n",
        "scaler_deepra = load('DeepRA-Mordred-scaler.joblib')\n",
        "x_deepra  = scaler_deepra.transform(x_te)\n",
        "y_predict_deepra = deepra.predict(x_deepra)\n",
        "\n",
        "y_predict_deepra_class = np.where(y_predict_deepra > 0.5 ,1 ,0)\n",
        "y_predict_deepra = pd.DataFrame(y_predict_deepra, columns=[name]).set_index(df.index)\n",
        "y_predict_deepra_class = pd.DataFrame(y_predict_deepra_class, columns=['class']).set_index(df.index)\n",
        "y_predict_deepra_class = pd.concat([y_predict_deepra, y_predict_deepra_class], axis=1)\n",
        "print(y_predict_deepra_class)"
      ],
      "metadata": {
        "colab": {
          "base_uri": "https://localhost:8080/"
        },
        "id": "9CTGuoGYrT52",
        "outputId": "343e9765-6eca-4e00-a5af-522877ccae08"
      },
      "execution_count": 23,
      "outputs": [
        {
          "output_type": "stream",
          "name": "stdout",
          "text": [
            "1/1 [==============================] - 0s 24ms/step\n",
            "        DeepRA-Mordred  class\n",
            "Name                         \n",
            "dulcin        0.997393      1\n"
          ]
        }
      ]
    },
    {
      "cell_type": "code",
      "source": [
        "#Compute Applicability Domain\n",
        "def nearest_neighbor_AD_predict(x_te, x_test, k, z=0.5):\n",
        "    from joblib import load\n",
        "    import numpy as np\n",
        "    import pandas as pd\n",
        "    nn = load('AD_nn.joblib')\n",
        "    distance, index = nn.kneighbors(x_test)\n",
        "    #calculate mean and sd of distance in train set\n",
        "    di = np.mean(distance, axis = 1)\n",
        "    dk =  1.004\n",
        "    sk =  0.489\n",
        "    print('dk = ', dk)\n",
        "    print('sk = ', sk)\n",
        "    AD_status = []\n",
        "    for i in range(len(di)):\n",
        "        if di[i] < dk + (z * sk):\n",
        "            AD_status.append('within_AD')\n",
        "        else:\n",
        "            AD_status.append('outside_AD')\n",
        "\n",
        "    # Create DataFrame with index from x_test and the respective status\n",
        "    df = pd.DataFrame(AD_status, index=x_te.index, columns=['AD_status'])\n",
        "    return df\n",
        "test_ad = nearest_neighbor_AD_predict(x_te, x_deepra, 3, z=0.5)\n",
        "test_ad"
      ],
      "metadata": {
        "colab": {
          "base_uri": "https://localhost:8080/",
          "height": 146
        },
        "id": "I43yW7VRrW3w",
        "outputId": "63dc2025-cbd5-4231-9963-0ef5fb39bc01"
      },
      "execution_count": 24,
      "outputs": [
        {
          "output_type": "stream",
          "name": "stdout",
          "text": [
            "dk =  1.004\n",
            "sk =  0.489\n"
          ]
        },
        {
          "output_type": "execute_result",
          "data": {
            "text/plain": [
              "        AD_status\n",
              "Name             \n",
              "dulcin  within_AD"
            ],
            "text/html": [
              "\n",
              "  <div id=\"df-a75056b9-4fd4-4840-88a5-8bc29f721079\" class=\"colab-df-container\">\n",
              "    <div>\n",
              "<style scoped>\n",
              "    .dataframe tbody tr th:only-of-type {\n",
              "        vertical-align: middle;\n",
              "    }\n",
              "\n",
              "    .dataframe tbody tr th {\n",
              "        vertical-align: top;\n",
              "    }\n",
              "\n",
              "    .dataframe thead th {\n",
              "        text-align: right;\n",
              "    }\n",
              "</style>\n",
              "<table border=\"1\" class=\"dataframe\">\n",
              "  <thead>\n",
              "    <tr style=\"text-align: right;\">\n",
              "      <th></th>\n",
              "      <th>AD_status</th>\n",
              "    </tr>\n",
              "    <tr>\n",
              "      <th>Name</th>\n",
              "      <th></th>\n",
              "    </tr>\n",
              "  </thead>\n",
              "  <tbody>\n",
              "    <tr>\n",
              "      <th>dulcin</th>\n",
              "      <td>within_AD</td>\n",
              "    </tr>\n",
              "  </tbody>\n",
              "</table>\n",
              "</div>\n",
              "    <div class=\"colab-df-buttons\">\n",
              "\n",
              "  <div class=\"colab-df-container\">\n",
              "    <button class=\"colab-df-convert\" onclick=\"convertToInteractive('df-a75056b9-4fd4-4840-88a5-8bc29f721079')\"\n",
              "            title=\"Convert this dataframe to an interactive table.\"\n",
              "            style=\"display:none;\">\n",
              "\n",
              "  <svg xmlns=\"http://www.w3.org/2000/svg\" height=\"24px\" viewBox=\"0 -960 960 960\">\n",
              "    <path d=\"M120-120v-720h720v720H120Zm60-500h600v-160H180v160Zm220 220h160v-160H400v160Zm0 220h160v-160H400v160ZM180-400h160v-160H180v160Zm440 0h160v-160H620v160ZM180-180h160v-160H180v160Zm440 0h160v-160H620v160Z\"/>\n",
              "  </svg>\n",
              "    </button>\n",
              "\n",
              "  <style>\n",
              "    .colab-df-container {\n",
              "      display:flex;\n",
              "      gap: 12px;\n",
              "    }\n",
              "\n",
              "    .colab-df-convert {\n",
              "      background-color: #E8F0FE;\n",
              "      border: none;\n",
              "      border-radius: 50%;\n",
              "      cursor: pointer;\n",
              "      display: none;\n",
              "      fill: #1967D2;\n",
              "      height: 32px;\n",
              "      padding: 0 0 0 0;\n",
              "      width: 32px;\n",
              "    }\n",
              "\n",
              "    .colab-df-convert:hover {\n",
              "      background-color: #E2EBFA;\n",
              "      box-shadow: 0px 1px 2px rgba(60, 64, 67, 0.3), 0px 1px 3px 1px rgba(60, 64, 67, 0.15);\n",
              "      fill: #174EA6;\n",
              "    }\n",
              "\n",
              "    .colab-df-buttons div {\n",
              "      margin-bottom: 4px;\n",
              "    }\n",
              "\n",
              "    [theme=dark] .colab-df-convert {\n",
              "      background-color: #3B4455;\n",
              "      fill: #D2E3FC;\n",
              "    }\n",
              "\n",
              "    [theme=dark] .colab-df-convert:hover {\n",
              "      background-color: #434B5C;\n",
              "      box-shadow: 0px 1px 3px 1px rgba(0, 0, 0, 0.15);\n",
              "      filter: drop-shadow(0px 1px 2px rgba(0, 0, 0, 0.3));\n",
              "      fill: #FFFFFF;\n",
              "    }\n",
              "  </style>\n",
              "\n",
              "    <script>\n",
              "      const buttonEl =\n",
              "        document.querySelector('#df-a75056b9-4fd4-4840-88a5-8bc29f721079 button.colab-df-convert');\n",
              "      buttonEl.style.display =\n",
              "        google.colab.kernel.accessAllowed ? 'block' : 'none';\n",
              "\n",
              "      async function convertToInteractive(key) {\n",
              "        const element = document.querySelector('#df-a75056b9-4fd4-4840-88a5-8bc29f721079');\n",
              "        const dataTable =\n",
              "          await google.colab.kernel.invokeFunction('convertToInteractive',\n",
              "                                                    [key], {});\n",
              "        if (!dataTable) return;\n",
              "\n",
              "        const docLinkHtml = 'Like what you see? Visit the ' +\n",
              "          '<a target=\"_blank\" href=https://colab.research.google.com/notebooks/data_table.ipynb>data table notebook</a>'\n",
              "          + ' to learn more about interactive tables.';\n",
              "        element.innerHTML = '';\n",
              "        dataTable['output_type'] = 'display_data';\n",
              "        await google.colab.output.renderOutput(dataTable, element);\n",
              "        const docLink = document.createElement('div');\n",
              "        docLink.innerHTML = docLinkHtml;\n",
              "        element.appendChild(docLink);\n",
              "      }\n",
              "    </script>\n",
              "  </div>\n",
              "\n",
              "    </div>\n",
              "  </div>\n"
            ],
            "application/vnd.google.colaboratory.intrinsic+json": {
              "type": "dataframe",
              "variable_name": "test_ad",
              "summary": "{\n  \"name\": \"test_ad\",\n  \"rows\": 1,\n  \"fields\": [\n    {\n      \"column\": \"Name\",\n      \"properties\": {\n        \"dtype\": \"string\",\n        \"num_unique_values\": 1,\n        \"samples\": [\n          \"dulcin\"\n        ],\n        \"semantic_type\": \"\",\n        \"description\": \"\"\n      }\n    },\n    {\n      \"column\": \"AD_status\",\n      \"properties\": {\n        \"dtype\": \"string\",\n        \"num_unique_values\": 1,\n        \"samples\": [\n          \"within_AD\"\n        ],\n        \"semantic_type\": \"\",\n        \"description\": \"\"\n      }\n    }\n  ]\n}"
            }
          },
          "metadata": {},
          "execution_count": 24
        }
      ]
    },
    {
      "cell_type": "code",
      "source": [
        "#Output\n",
        "DeepRA_AD = pd.concat([y_predict_deepra_class, test_ad],axis=1)\n",
        "DeepRA_AD"
      ],
      "metadata": {
        "id": "sWIObVQD06R6",
        "colab": {
          "base_uri": "https://localhost:8080/",
          "height": 112
        },
        "outputId": "dd014795-23d9-4dc2-c355-b212a941ef8d"
      },
      "execution_count": 25,
      "outputs": [
        {
          "output_type": "execute_result",
          "data": {
            "text/plain": [
              "        DeepRA-Mordred  class  AD_status\n",
              "Name                                    \n",
              "dulcin        0.997393      1  within_AD"
            ],
            "text/html": [
              "\n",
              "  <div id=\"df-d86806c0-9231-4441-b22b-9ee9ec47bf01\" class=\"colab-df-container\">\n",
              "    <div>\n",
              "<style scoped>\n",
              "    .dataframe tbody tr th:only-of-type {\n",
              "        vertical-align: middle;\n",
              "    }\n",
              "\n",
              "    .dataframe tbody tr th {\n",
              "        vertical-align: top;\n",
              "    }\n",
              "\n",
              "    .dataframe thead th {\n",
              "        text-align: right;\n",
              "    }\n",
              "</style>\n",
              "<table border=\"1\" class=\"dataframe\">\n",
              "  <thead>\n",
              "    <tr style=\"text-align: right;\">\n",
              "      <th></th>\n",
              "      <th>DeepRA-Mordred</th>\n",
              "      <th>class</th>\n",
              "      <th>AD_status</th>\n",
              "    </tr>\n",
              "    <tr>\n",
              "      <th>Name</th>\n",
              "      <th></th>\n",
              "      <th></th>\n",
              "      <th></th>\n",
              "    </tr>\n",
              "  </thead>\n",
              "  <tbody>\n",
              "    <tr>\n",
              "      <th>dulcin</th>\n",
              "      <td>0.997393</td>\n",
              "      <td>1</td>\n",
              "      <td>within_AD</td>\n",
              "    </tr>\n",
              "  </tbody>\n",
              "</table>\n",
              "</div>\n",
              "    <div class=\"colab-df-buttons\">\n",
              "\n",
              "  <div class=\"colab-df-container\">\n",
              "    <button class=\"colab-df-convert\" onclick=\"convertToInteractive('df-d86806c0-9231-4441-b22b-9ee9ec47bf01')\"\n",
              "            title=\"Convert this dataframe to an interactive table.\"\n",
              "            style=\"display:none;\">\n",
              "\n",
              "  <svg xmlns=\"http://www.w3.org/2000/svg\" height=\"24px\" viewBox=\"0 -960 960 960\">\n",
              "    <path d=\"M120-120v-720h720v720H120Zm60-500h600v-160H180v160Zm220 220h160v-160H400v160Zm0 220h160v-160H400v160ZM180-400h160v-160H180v160Zm440 0h160v-160H620v160ZM180-180h160v-160H180v160Zm440 0h160v-160H620v160Z\"/>\n",
              "  </svg>\n",
              "    </button>\n",
              "\n",
              "  <style>\n",
              "    .colab-df-container {\n",
              "      display:flex;\n",
              "      gap: 12px;\n",
              "    }\n",
              "\n",
              "    .colab-df-convert {\n",
              "      background-color: #E8F0FE;\n",
              "      border: none;\n",
              "      border-radius: 50%;\n",
              "      cursor: pointer;\n",
              "      display: none;\n",
              "      fill: #1967D2;\n",
              "      height: 32px;\n",
              "      padding: 0 0 0 0;\n",
              "      width: 32px;\n",
              "    }\n",
              "\n",
              "    .colab-df-convert:hover {\n",
              "      background-color: #E2EBFA;\n",
              "      box-shadow: 0px 1px 2px rgba(60, 64, 67, 0.3), 0px 1px 3px 1px rgba(60, 64, 67, 0.15);\n",
              "      fill: #174EA6;\n",
              "    }\n",
              "\n",
              "    .colab-df-buttons div {\n",
              "      margin-bottom: 4px;\n",
              "    }\n",
              "\n",
              "    [theme=dark] .colab-df-convert {\n",
              "      background-color: #3B4455;\n",
              "      fill: #D2E3FC;\n",
              "    }\n",
              "\n",
              "    [theme=dark] .colab-df-convert:hover {\n",
              "      background-color: #434B5C;\n",
              "      box-shadow: 0px 1px 3px 1px rgba(0, 0, 0, 0.15);\n",
              "      filter: drop-shadow(0px 1px 2px rgba(0, 0, 0, 0.3));\n",
              "      fill: #FFFFFF;\n",
              "    }\n",
              "  </style>\n",
              "\n",
              "    <script>\n",
              "      const buttonEl =\n",
              "        document.querySelector('#df-d86806c0-9231-4441-b22b-9ee9ec47bf01 button.colab-df-convert');\n",
              "      buttonEl.style.display =\n",
              "        google.colab.kernel.accessAllowed ? 'block' : 'none';\n",
              "\n",
              "      async function convertToInteractive(key) {\n",
              "        const element = document.querySelector('#df-d86806c0-9231-4441-b22b-9ee9ec47bf01');\n",
              "        const dataTable =\n",
              "          await google.colab.kernel.invokeFunction('convertToInteractive',\n",
              "                                                    [key], {});\n",
              "        if (!dataTable) return;\n",
              "\n",
              "        const docLinkHtml = 'Like what you see? Visit the ' +\n",
              "          '<a target=\"_blank\" href=https://colab.research.google.com/notebooks/data_table.ipynb>data table notebook</a>'\n",
              "          + ' to learn more about interactive tables.';\n",
              "        element.innerHTML = '';\n",
              "        dataTable['output_type'] = 'display_data';\n",
              "        await google.colab.output.renderOutput(dataTable, element);\n",
              "        const docLink = document.createElement('div');\n",
              "        docLink.innerHTML = docLinkHtml;\n",
              "        element.appendChild(docLink);\n",
              "      }\n",
              "    </script>\n",
              "  </div>\n",
              "\n",
              "    </div>\n",
              "  </div>\n"
            ],
            "application/vnd.google.colaboratory.intrinsic+json": {
              "type": "dataframe",
              "variable_name": "DeepRA_AD",
              "summary": "{\n  \"name\": \"DeepRA_AD\",\n  \"rows\": 1,\n  \"fields\": [\n    {\n      \"column\": \"Name\",\n      \"properties\": {\n        \"dtype\": \"string\",\n        \"num_unique_values\": 1,\n        \"samples\": [\n          \"dulcin\"\n        ],\n        \"semantic_type\": \"\",\n        \"description\": \"\"\n      }\n    },\n    {\n      \"column\": \"DeepRA-Mordred\",\n      \"properties\": {\n        \"dtype\": \"float32\",\n        \"num_unique_values\": 1,\n        \"samples\": [\n          0.9973933100700378\n        ],\n        \"semantic_type\": \"\",\n        \"description\": \"\"\n      }\n    },\n    {\n      \"column\": \"class\",\n      \"properties\": {\n        \"dtype\": \"number\",\n        \"std\": null,\n        \"min\": 1,\n        \"max\": 1,\n        \"num_unique_values\": 1,\n        \"samples\": [\n          1\n        ],\n        \"semantic_type\": \"\",\n        \"description\": \"\"\n      }\n    },\n    {\n      \"column\": \"AD_status\",\n      \"properties\": {\n        \"dtype\": \"string\",\n        \"num_unique_values\": 1,\n        \"samples\": [\n          \"within_AD\"\n        ],\n        \"semantic_type\": \"\",\n        \"description\": \"\"\n      }\n    }\n  ]\n}"
            }
          },
          "metadata": {},
          "execution_count": 25
        }
      ]
    },
    {
      "cell_type": "code",
      "source": [],
      "metadata": {
        "id": "X9GVt4xm5kfY"
      },
      "execution_count": null,
      "outputs": []
    }
  ]
}